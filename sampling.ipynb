{
  "cells": [
    {
      "cell_type": "code",
      "execution_count": 2,
      "metadata": {
        "id": "mQa9l7ZZpQO2"
      },
      "outputs": [],
      "source": [
        "import pandas as pd\n",
        "import numpy as np\n",
        "import matplotlib.pyplot as plt\n",
        "from imblearn.over_sampling import SMOTE\n",
        "from collections import Counter\n",
        "from sklearn.model_selection import train_test_split\n",
        "from sklearn.linear_model import LogisticRegression\n",
        "from sklearn.tree import DecisionTreeClassifier\n",
        "from sklearn.ensemble import GradientBoostingClassifier\n",
        "from sklearn.svm import SVC\n",
        "from sklearn.neighbors import KNeighborsClassifier\n",
        "from sklearn.metrics import accuracy_score"
      ]
    },
    {
      "cell_type": "code",
      "execution_count": 3,
      "metadata": {
        "id": "pJOL3ewnpQMp"
      },
      "outputs": [],
      "source": [
        "data = pd.read_csv('Creditcard_data.csv')"
      ]
    },
    {
      "cell_type": "code",
      "execution_count": 4,
      "metadata": {
        "colab": {
          "base_uri": "https://localhost:8080/"
        },
        "id": "DTwtYFFZpQKX",
        "outputId": "040a7327-3119-43f0-fae1-eac78d47f93e"
      },
      "outputs": [
        {
          "name": "stdout",
          "output_type": "stream",
          "text": [
            "   Time        V1        V2        V3        V4        V5        V6        V7  \\\n",
            "0     0 -1.359807 -0.072781  2.536347  1.378155 -0.338321  0.462388  0.239599   \n",
            "1     0  1.191857  0.266151  0.166480  0.448154  0.060018 -0.082361 -0.078803   \n",
            "2     1 -1.358354 -1.340163  1.773209  0.379780 -0.503198  1.800499  0.791461   \n",
            "3     1 -0.966272 -0.185226  1.792993 -0.863291 -0.010309  1.247203  0.237609   \n",
            "4     2 -1.158233  0.877737  1.548718  0.403034 -0.407193  0.095921  0.592941   \n",
            "\n",
            "         V8        V9  ...       V21       V22       V23       V24       V25  \\\n",
            "0  0.098698  0.363787  ... -0.018307  0.277838 -0.110474  0.066928  0.128539   \n",
            "1  0.085102 -0.255425  ... -0.225775 -0.638672  0.101288 -0.339846  0.167170   \n",
            "2  0.247676 -1.514654  ...  0.247998  0.771679  0.909412 -0.689281 -0.327642   \n",
            "3  0.377436 -1.387024  ... -0.108300  0.005274 -0.190321 -1.175575  0.647376   \n",
            "4 -0.270533  0.817739  ... -0.009431  0.798278 -0.137458  0.141267 -0.206010   \n",
            "\n",
            "        V26       V27       V28  Amount  Class  \n",
            "0 -0.189115  0.133558 -0.021053  149.62      0  \n",
            "1  0.125895 -0.008983  0.014724    2.69      1  \n",
            "2 -0.139097 -0.055353 -0.059752  378.66      0  \n",
            "3 -0.221929  0.062723  0.061458  123.50      0  \n",
            "4  0.502292  0.219422  0.215153   69.99      0  \n",
            "\n",
            "[5 rows x 31 columns]\n",
            "<class 'pandas.core.frame.DataFrame'>\n",
            "RangeIndex: 772 entries, 0 to 771\n",
            "Data columns (total 31 columns):\n",
            " #   Column  Non-Null Count  Dtype  \n",
            "---  ------  --------------  -----  \n",
            " 0   Time    772 non-null    int64  \n",
            " 1   V1      772 non-null    float64\n",
            " 2   V2      772 non-null    float64\n",
            " 3   V3      772 non-null    float64\n",
            " 4   V4      772 non-null    float64\n",
            " 5   V5      772 non-null    float64\n",
            " 6   V6      772 non-null    float64\n",
            " 7   V7      772 non-null    float64\n",
            " 8   V8      772 non-null    float64\n",
            " 9   V9      772 non-null    float64\n",
            " 10  V10     772 non-null    float64\n",
            " 11  V11     772 non-null    float64\n",
            " 12  V12     772 non-null    float64\n",
            " 13  V13     772 non-null    float64\n",
            " 14  V14     772 non-null    float64\n",
            " 15  V15     772 non-null    float64\n",
            " 16  V16     772 non-null    float64\n",
            " 17  V17     772 non-null    float64\n",
            " 18  V18     772 non-null    float64\n",
            " 19  V19     772 non-null    float64\n",
            " 20  V20     772 non-null    float64\n",
            " 21  V21     772 non-null    float64\n",
            " 22  V22     772 non-null    float64\n",
            " 23  V23     772 non-null    float64\n",
            " 24  V24     772 non-null    float64\n",
            " 25  V25     772 non-null    float64\n",
            " 26  V26     772 non-null    float64\n",
            " 27  V27     772 non-null    float64\n",
            " 28  V28     772 non-null    float64\n",
            " 29  Amount  772 non-null    float64\n",
            " 30  Class   772 non-null    int64  \n",
            "dtypes: float64(29), int64(2)\n",
            "memory usage: 187.1 KB\n",
            "             Time          V1          V2          V3          V4          V5  \\\n",
            "count  772.000000  772.000000  772.000000  772.000000  772.000000  772.000000   \n",
            "mean   283.005181   -0.176963    0.217169    0.875172    0.285628   -0.005029   \n",
            "std    171.834196    1.294724    1.173401    1.031878    1.258758    1.098143   \n",
            "min      0.000000   -6.093248  -12.114213   -5.694973   -4.657545   -6.631951   \n",
            "25%    126.500000   -0.896416   -0.174684    0.308677   -0.460058   -0.534567   \n",
            "50%    282.000000   -0.382618    0.285843    0.905435    0.395919   -0.116612   \n",
            "75%    432.000000    1.110739    0.885745    1.532969    1.117559    0.452818   \n",
            "max    581.000000    1.586093    5.267376    3.772857    4.075817    7.672544   \n",
            "\n",
            "               V6          V7          V8          V9  ...         V21  \\\n",
            "count  772.000000  772.000000  772.000000  772.000000  ...  772.000000   \n",
            "mean     0.159081    0.123329   -0.057547   -0.030384  ...    0.004888   \n",
            "std      1.225682    0.852075    0.830144    0.878183  ...    0.609335   \n",
            "min     -3.498447   -4.925568   -7.494658   -2.770089  ...   -4.134608   \n",
            "25%     -0.630717   -0.296289   -0.167880   -0.517068  ...   -0.213746   \n",
            "50%     -0.109581    0.116329    0.034755   -0.082270  ...   -0.075802   \n",
            "75%      0.482972    0.575390    0.252395    0.412261  ...    0.095149   \n",
            "max      5.122103    4.808426    2.134599    5.459274  ...    5.273420   \n",
            "\n",
            "              V22         V23         V24         V25         V26         V27  \\\n",
            "count  772.000000  772.000000  772.000000  772.000000  772.000000  772.000000   \n",
            "mean    -0.096995   -0.040344   -0.002501    0.114337    0.022782    0.023353   \n",
            "std      0.607228    0.358724    0.621507    0.429667    0.484227    0.300934   \n",
            "min     -2.776923   -3.553381   -1.867208   -1.389079   -1.243924   -2.377933   \n",
            "25%     -0.525289   -0.176915   -0.379766   -0.166227   -0.313631   -0.047868   \n",
            "50%     -0.076551   -0.048353    0.091886    0.143723   -0.026414    0.023199   \n",
            "75%      0.307438    0.070085    0.426339    0.425798    0.260408    0.112199   \n",
            "max      1.574750    3.150413    1.215279    1.136720    3.087444    2.490503   \n",
            "\n",
            "              V28       Amount       Class  \n",
            "count  772.000000   772.000000  772.000000  \n",
            "mean    -0.017045    68.668290    0.011658  \n",
            "std      0.278332   197.838269    0.107411  \n",
            "min     -2.735623     0.000000    0.000000  \n",
            "25%     -0.033083     5.987500    0.000000  \n",
            "50%      0.021034    16.665000    0.000000  \n",
            "75%      0.087023    55.527500    0.000000  \n",
            "max      1.575380  3828.040000    1.000000  \n",
            "\n",
            "[8 rows x 31 columns]\n"
          ]
        }
      ],
      "source": [
        "print(data.head())\n",
        "data.info()\n",
        "print(data.describe())"
      ]
    },
    {
      "cell_type": "code",
      "execution_count": 5,
      "metadata": {
        "colab": {
          "base_uri": "https://localhost:8080/"
        },
        "id": "6tlq3sIepQIE",
        "outputId": "bea04533-be21-4980-f9cb-65f1ba37e7cf"
      },
      "outputs": [
        {
          "name": "stdout",
          "output_type": "stream",
          "text": [
            "Class Distribution:\n",
            "Class\n",
            "0    763\n",
            "1      9\n",
            "Name: count, dtype: int64\n"
          ]
        }
      ],
      "source": [
        "class_counts = data[\"Class\"].value_counts()\n",
        "print(f\"Class Distribution:\\n{class_counts}\")"
      ]
    },
    {
      "cell_type": "code",
      "execution_count": 6,
      "metadata": {
        "colab": {
          "base_uri": "https://localhost:8080/"
        },
        "id": "Jkq7_MeqpQDT",
        "outputId": "9771b604-5f7e-4040-f638-2cc30c5bd6f6"
      },
      "outputs": [
        {
          "name": "stdout",
          "output_type": "stream",
          "text": [
            "Missing Values in Each Column:\n",
            "Time      0\n",
            "V1        0\n",
            "V2        0\n",
            "V3        0\n",
            "V4        0\n",
            "V5        0\n",
            "V6        0\n",
            "V7        0\n",
            "V8        0\n",
            "V9        0\n",
            "V10       0\n",
            "V11       0\n",
            "V12       0\n",
            "V13       0\n",
            "V14       0\n",
            "V15       0\n",
            "V16       0\n",
            "V17       0\n",
            "V18       0\n",
            "V19       0\n",
            "V20       0\n",
            "V21       0\n",
            "V22       0\n",
            "V23       0\n",
            "V24       0\n",
            "V25       0\n",
            "V26       0\n",
            "V27       0\n",
            "V28       0\n",
            "Amount    0\n",
            "Class     0\n",
            "dtype: int64\n"
          ]
        }
      ],
      "source": [
        "miss_values = data.isnull().sum()\n",
        "print(\"Missing Values in Each Column:\")\n",
        "print(miss_values)"
      ]
    },
    {
      "cell_type": "code",
      "execution_count": 7,
      "metadata": {
        "id": "VpC207MmpP4T"
      },
      "outputs": [],
      "source": [
        "data = data.replace('Parth Adlakha', 'Parth Adlakha')"
      ]
    },
    {
      "cell_type": "code",
      "execution_count": 8,
      "metadata": {
        "colab": {
          "base_uri": "https://localhost:8080/"
        },
        "id": "kmLDLsmTpPmM",
        "outputId": "63e2b56d-05ea-4ef6-b055-9a75fa729127"
      },
      "outputs": [
        {
          "name": "stdout",
          "output_type": "stream",
          "text": [
            "Class 0: (763, 31)\n",
            "Class 1: (9, 31)\n"
          ]
        }
      ],
      "source": [
        "data_0 = data[data['Class'] == 0]\n",
        "data_1 = data[data['Class'] == 1]\n",
        "print(f\"Class 0: {data_0.shape}\")\n",
        "print(f\"Class 1: {data_1.shape}\")"
      ]
    },
    {
      "cell_type": "code",
      "execution_count": 9,
      "metadata": {
        "colab": {
          "base_uri": "https://localhost:8080/",
          "height": 467
        },
        "id": "DoJyjZAvvS_-",
        "outputId": "7c737fbf-50a3-40bb-8cc9-11d0cf0261ce"
      },
      "outputs": [
        {
          "data": {
            "image/png": "[encoded data removed]",
            "text/plain": [
              "<Figure size 640x480 with 1 Axes>"
            ]
          },
          "metadata": {},
          "output_type": "display_data"
        }
      ],
      "source": [
        "data['Class'].value_counts().plot(kind='bar', color='skyblue', title=\"Target Variable Distribution\")\n",
        "plt.show()"
      ]
    },
    {
      "cell_type": "code",
      "execution_count": 10,
      "metadata": {
        "id": "-ApQezubvW5E"
      },
      "outputs": [],
      "source": [
        "y = data['Class']\n",
        "x = data.drop('Class', axis=1)\n",
        "\n",
        "smote = SMOTE(random_state=42)\n",
        "x_smote, y_smote = smote.fit_resample(x, y)"
      ]
    },
    {
      "cell_type": "code",
      "execution_count": 11,
      "metadata": {
        "colab": {
          "base_uri": "https://localhost:8080/"
        },
        "id": "6Z1FxRyavZns",
        "outputId": "7bee76c8-711c-42c4-fefc-d6422d277f69"
      },
      "outputs": [
        {
          "name": "stdout",
          "output_type": "stream",
          "text": [
            "Original dataset shape: Counter({0: 763, 1: 9})\n",
            "Resampled dataset shape: Counter({0: 763, 1: 763})\n"
          ]
        }
      ],
      "source": [
        "print(f\"Original dataset shape: {Counter(y)}\")\n",
        "print(f\"Resampled dataset shape: {Counter(y_smote)}\")"
      ]
    },
    {
      "cell_type": "code",
      "execution_count": 12,
      "metadata": {
        "id": "9yHckCJDvd47"
      },
      "outputs": [],
      "source": [
        "balanced_data = pd.concat([pd.DataFrame(x_smote), pd.DataFrame(y_smote, columns=['Class'])], axis=1)\n"
      ]
    },
    {
      "cell_type": "code",
      "execution_count": 13,
      "metadata": {
        "id": "1XKEVd5Hvinq"
      },
      "outputs": [],
      "source": [
        "sample1 = balanced_data.sample(frac=0.2, random_state=42)"
      ]
    },
    {
      "cell_type": "code",
      "execution_count": 14,
      "metadata": {
        "colab": {
          "base_uri": "https://localhost:8080/"
        },
        "id": "2rOGhGHvvnN_",
        "outputId": "8ee6762d-7113-4f58-f955-69d259815c22"
      },
      "outputs": [],
      "source": [
        "sample2 = balanced_data.groupby('Class', group_keys=False).apply(lambda x: x.sample(frac=0.2, random_state=42))"
      ]
    },
    {
      "cell_type": "code",
      "execution_count": 15,
      "metadata": {
        "id": "1EUGXfQJvnKv"
      },
      "outputs": [],
      "source": [
        "k = len(balanced_data) // int(0.2 * len(balanced_data))\n",
        "start = np.random.randint(0, k)\n",
        "sample3 = balanced_data.iloc[start::k]"
      ]
    },
    {
      "cell_type": "code",
      "execution_count": 16,
      "metadata": {
        "id": "IoNNKl3uvnI4"
      },
      "outputs": [],
      "source": [
        "num_clusters = 5\n",
        "cluster_labels = np.arange(len(balanced_data)) % num_clusters\n",
        "balanced_data['Cluster'] = cluster_labels\n",
        "selected_cluster = np.random.choice(num_clusters)\n",
        "sample4 = balanced_data[balanced_data['Cluster'] == selected_cluster].drop('Cluster', axis=1)"
      ]
    },
    {
      "cell_type": "code",
      "execution_count": 17,
      "metadata": {
        "id": "GYsWlVw7vnG9"
      },
      "outputs": [],
      "source": [
        "sample5 = balanced_data.sample(n=int(0.2 * len(balanced_data)), replace=True, random_state=42)"
      ]
    },
    {
      "cell_type": "code",
      "execution_count": 18,
      "metadata": {
        "id": "GhblAu2DvnE9"
      },
      "outputs": [],
      "source": [
        "models = {\n",
        "    \"Logistic Regression\": LogisticRegression(),\n",
        "    \"Decision Tree\": DecisionTreeClassifier(),\n",
        "    \"Gradient Boosting\": GradientBoostingClassifier(n_estimators=100, learning_rate=0.1, max_depth=3, random_state=42),\n",
        "    \"SVM\": SVC(),\n",
        "    \"k-NN\": KNeighborsClassifier()\n",
        "}\n"
      ]
    },
    {
      "cell_type": "code",
      "execution_count": 19,
      "metadata": {
        "id": "07xKCviNvnC0"
      },
      "outputs": [],
      "source": [
        "results = {}\n",
        "samples = [sample1, sample2, sample3, sample4, sample5]"
      ]
    },
    {
      "cell_type": "code",
      "execution_count": 20,
      "metadata": {
        "colab": {
          "base_uri": "https://localhost:8080/"
        },
        "id": "9pQReQHrvnA0",
        "outputId": "cdc23052-3cef-4ad6-9bfb-cf085b079312"
      },
      "outputs": [
        {
          "name": "stderr",
          "output_type": "stream",
          "text": [
            "c:\\Users\\Parth\\AppData\\Local\\Programs\\Python\\Python312\\Lib\\site-packages\\sklearn\\linear_model\\_logistic.py:469: ConvergenceWarning: lbfgs failed to converge (status=1):\n",
            "STOP: TOTAL NO. of ITERATIONS REACHED LIMIT.\n",
            "\n",
            "Increase the number of iterations (max_iter) or scale the data as shown in:\n",
            "    https://scikit-learn.org/stable/modules/preprocessing.html\n",
            "Please also refer to the documentation for alternative solver options:\n",
            "    https://scikit-learn.org/stable/modules/linear_model.html#logistic-regression\n",
            "  n_iter_i = _check_optimize_result(\n",
            "c:\\Users\\Parth\\AppData\\Local\\Programs\\Python\\Python312\\Lib\\site-packages\\sklearn\\linear_model\\_logistic.py:469: ConvergenceWarning: lbfgs failed to converge (status=1):\n",
            "STOP: TOTAL NO. of ITERATIONS REACHED LIMIT.\n",
            "\n",
            "Increase the number of iterations (max_iter) or scale the data as shown in:\n",
            "    https://scikit-learn.org/stable/modules/preprocessing.html\n",
            "Please also refer to the documentation for alternative solver options:\n",
            "    https://scikit-learn.org/stable/modules/linear_model.html#logistic-regression\n",
            "  n_iter_i = _check_optimize_result(\n",
            "c:\\Users\\Parth\\AppData\\Local\\Programs\\Python\\Python312\\Lib\\site-packages\\sklearn\\linear_model\\_logistic.py:469: ConvergenceWarning: lbfgs failed to converge (status=1):\n",
            "STOP: TOTAL NO. of ITERATIONS REACHED LIMIT.\n",
            "\n",
            "Increase the number of iterations (max_iter) or scale the data as shown in:\n",
            "    https://scikit-learn.org/stable/modules/preprocessing.html\n",
            "Please also refer to the documentation for alternative solver options:\n",
            "    https://scikit-learn.org/stable/modules/linear_model.html#logistic-regression\n",
            "  n_iter_i = _check_optimize_result(\n",
            "c:\\Users\\Parth\\AppData\\Local\\Programs\\Python\\Python312\\Lib\\site-packages\\sklearn\\linear_model\\_logistic.py:469: ConvergenceWarning: lbfgs failed to converge (status=1):\n",
            "STOP: TOTAL NO. of ITERATIONS REACHED LIMIT.\n",
            "\n",
            "Increase the number of iterations (max_iter) or scale the data as shown in:\n",
            "    https://scikit-learn.org/stable/modules/preprocessing.html\n",
            "Please also refer to the documentation for alternative solver options:\n",
            "    https://scikit-learn.org/stable/modules/linear_model.html#logistic-regression\n",
            "  n_iter_i = _check_optimize_result(\n",
            "c:\\Users\\Parth\\AppData\\Local\\Programs\\Python\\Python312\\Lib\\site-packages\\sklearn\\linear_model\\_logistic.py:469: ConvergenceWarning: lbfgs failed to converge (status=1):\n",
            "STOP: TOTAL NO. of ITERATIONS REACHED LIMIT.\n",
            "\n",
            "Increase the number of iterations (max_iter) or scale the data as shown in:\n",
            "    https://scikit-learn.org/stable/modules/preprocessing.html\n",
            "Please also refer to the documentation for alternative solver options:\n",
            "    https://scikit-learn.org/stable/modules/linear_model.html#logistic-regression\n",
            "  n_iter_i = _check_optimize_result(\n"
          ]
        }
      ],
      "source": [
        "for model_name, model in models.items():\n",
        "    results[model_name] = []\n",
        "    for i, sample in enumerate(samples):\n",
        "        X_sample = sample.drop('Class', axis=1)\n",
        "        y_sample = sample['Class']\n",
        "\n",
        "        X_train, X_test, y_train, y_test = train_test_split(X_sample, y_sample, test_size=0.2, random_state=42)\n",
        "\n",
        "        model.fit(X_train, y_train)\n",
        "        predictions = model.predict(X_test)\n",
        "        accuracy = accuracy_score(y_test, predictions)\n",
        "        results[model_name].append(accuracy)"
      ]
    },
    {
      "cell_type": "code",
      "execution_count": 21,
      "metadata": {
        "colab": {
          "base_uri": "https://localhost:8080/"
        },
        "id": "GwLF3Ip3vm-n",
        "outputId": "88706099-ffe7-41ea-ee19-16384586454e"
      },
      "outputs": [
        {
          "name": "stdout",
          "output_type": "stream",
          "text": [
            "Model accuracies saved to 'model_accuracies.csv'\n"
          ]
        }
      ],
      "source": [
        "results_df = pd.DataFrame(results, index=[\"Sample1\", \"Sample2\", \"Sample3\", \"Sample4\", \"Sample5\"])\n",
        "results_df.to_csv(\"model_accuracies.csv\")\n",
        "print(\"Model accuracies saved to 'model_accuracies.csv'\")"
      ]
    },
    {
      "cell_type": "code",
      "execution_count": null,
      "metadata": {
        "id": "IAEIafrbvmy5"
      },
      "outputs": [],
      "source": []
    }
  ],
  "metadata": {
    "accelerator": "GPU",
    "colab": {
      "gpuType": "T4",
      "provenance": []
    },
    "kernelspec": {
      "display_name": "Python 3",
      "name": "python3"
    },
    "language_info": {
      "name": "python"
    }
  },
  "nbformat": 4,
  "nbformat_minor": 0
}
